{
 "cells": [
  {
   "cell_type": "markdown",
   "metadata": {},
   "source": [
    "# NLP Assignment 2  RNN/CNN-based Natural Language Inference"
   ]
  },
  {
   "cell_type": "code",
   "execution_count": 1,
   "metadata": {},
   "outputs": [],
   "source": [
    "import pandas as pd\n",
    "import torch\n",
    "import torch.nn as nn\n",
    "import torch.nn.functional as F\n",
    "from torch.utils.data import Dataset\n",
    "from collections import Counter\n",
    "import pickle as pkl\n",
    "import random\n",
    "import pdb\n",
    "import matplotlib.pyplot as plt"
   ]
  },
  {
   "cell_type": "code",
   "execution_count": 2,
   "metadata": {},
   "outputs": [],
   "source": [
    "words_to_load = 50000\n",
    "PAD_IDX = 0\n",
    "UNK_IDX = 1\n",
    "import numpy as np\n",
    "# reserve the 1st 2nd token for padding and <UNK> respectively\n",
    "with open('wiki-news-300d-1M.vec') as f:\n",
    "    loaded_embeddings_ft = np.zeros((words_to_load+2, 300))\n",
    "    words_ft = {}\n",
    "    idx2words_ft = {}\n",
    "    ordered_words_ft = []\n",
    "    ordered_words_ft.extend(['<pad>', '<unk>'])\n",
    "    loaded_embeddings_ft[0,:] = np.zeros(300)\n",
    "    loaded_embeddings_ft[1,:] = np.random.normal(size = 300)\n",
    "    for i, line in enumerate(f):\n",
    "        if i >= words_to_load: \n",
    "            break\n",
    "        s = line.split()\n",
    "        loaded_embeddings_ft[i+2, :] = np.asarray(s[1:])\n",
    "        words_ft[s[0]] = i+2\n",
    "        idx2words_ft[i+2] = s[0]\n",
    "        ordered_words_ft.append(s[0])\n",
    "    words_ft['<pad>'] = 0\n",
    "    words_ft['<unk>'] = 1\n",
    "    idx2words_ft[0] = '<pad>'\n",
    "    idx2words_ft[1] = '<unk>'"
   ]
  },
  {
   "cell_type": "code",
   "execution_count": 3,
   "metadata": {},
   "outputs": [],
   "source": [
    "# convert tokens in df to word vectors \n",
    "label_dic = {'neutral':0, 'contradiction':1, 'entailment':2}\n",
    "def word_to_vec(word_list):\n",
    "    return [loaded_embeddings_ft[words_ft[x]] if x in ordered_words_ft else loaded_embeddings_ft[1] for x in word_list]\n",
    "def word_to_id(word_list):\n",
    "    return [words_ft[x] if x in ordered_words_ft else UNK_IDX for x in word_list]\n",
    "def convert_data(df):\n",
    "    df['token1_x'] = df['token1'].apply(lambda x: word_to_vec(x))\n",
    "    df['token2_x'] = df['token2'].apply(lambda x: word_to_vec(x))\n",
    "    df['y'] = df['label'].apply(lambda x: label_dic[x])\n",
    "    return df"
   ]
  },
  {
   "cell_type": "code",
   "execution_count": 5,
   "metadata": {},
   "outputs": [],
   "source": [
    "train_data_df = pd.DataFrame.from_csv('hw2_data/snli_train.tsv', sep='\\t', index_col=None)\n",
    "test_data_df = pd.DataFrame.from_csv('hw2_data/snli_val.tsv', sep='\\t', index_col=None)\n",
    "train_data_df['token1'] = [x.split() for x in train_data_df.sentence1]\n",
    "train_data_df['token2'] = [x.split() for x in train_data_df.sentence2]\n",
    "test_data_df['token1'] = [x.split() for x in test_data_df.sentence1]\n",
    "test_data_df['token2'] = [x.split() for x in test_data_df.sentence2]"
   ]
  },
  {
   "cell_type": "code",
   "execution_count": 5,
   "metadata": {},
   "outputs": [],
   "source": [
    "train_data_df2 = convert_data(train_data_df)\n",
    "test_data_df2 = convert_data(test_data_df)"
   ]
  },
  {
   "cell_type": "code",
   "execution_count": 7,
   "metadata": {},
   "outputs": [],
   "source": [
    "def list2id(sent_list):\n",
    "    return [word_to_id(x) for x in sent_list]"
   ]
  },
  {
   "cell_type": "code",
   "execution_count": 95,
   "metadata": {},
   "outputs": [],
   "source": [
    "train_list_pre = train_data_df['token1'].values.tolist()\n",
    "train_list_hypo = train_data_df['token2'].values.tolist()\n",
    "test_list_pre = test_data_df['token1'].values.tolist()\n",
    "test_list_hypo = test_data_df['token2'].values.tolist()\n",
    "train_id_pre = list2id(train_list_pre)\n",
    "train_id_hypo = list2id(train_list_hypo)\n",
    "test_id_pre = list2id(test_list_pre)\n",
    "test_id_hypo = list2id(test_list_hypo)\n",
    "#save list to pickle\n",
    "pkl.dump(train_id_pre, open(\"train_id_pre.p\", \"wb\"))\n",
    "pkl.dump(train_id_hypo, open(\"train_id_hypo.p\", \"wb\"))\n",
    "pkl.dump(test_id_pre, open(\"test_id_pre.p\", \"wb\"))\n",
    "pkl.dump(test_id_hypo, open(\"test_id_hypo.p\", \"wb\"))\n",
    "pkl.dump(list(train_data_df2.y.values), open(\"train_y.p\", \"wb\"))\n",
    "pkl.dump(list(test_data_df2.y.values), open(\"test_y.p\", \"wb\"))"
   ]
  },
  {
   "cell_type": "code",
   "execution_count": 4,
   "metadata": {},
   "outputs": [],
   "source": [
    "def read_tokenizing_data():\n",
    "    train_id_pre = pkl.load(open(\"train_id_pre.p\", 'rb'))\n",
    "    train_id_hypo = pkl.load(open(\"train_id_hypo.p\", 'rb'))\n",
    "    test_id_pre = pkl.load(open(\"test_id_pre.p\", 'rb'))\n",
    "    test_id_hypo = pkl.load(open(\"test_id_hypo.p\", 'rb'))\n",
    "    train_y = pkl.load(open(\"train_y.p\", 'rb'))\n",
    "    test_y = pkl.load(open(\"test_y.p\", 'rb'))\n",
    "#     idx2words_ft = pkl.load(open(\"idx2words_ft.p\", 'rb'))\n",
    "#     loaded_embeddings_ft= pkl.load(open(\"loaded_embeddings_ft.p\", 'rb'))\n",
    "#     ordered_words_ft= pkl.load(open(\"ordered_words_ft.p\", 'rb'))\n",
    "#     words_ft= pkl.load(open(\"words_ft.p\", 'rb'))\n",
    "    return train_id_pre, train_id_hypo, test_id_pre, test_id_hypo, train_y, test_y"
   ]
  },
  {
   "cell_type": "code",
   "execution_count": 5,
   "metadata": {},
   "outputs": [],
   "source": [
    "train_id_pre, train_id_hypo, test_id_pre, test_id_hypo, train_y, test_y = read_tokenizing_data()"
   ]
  },
  {
   "cell_type": "code",
   "execution_count": 6,
   "metadata": {},
   "outputs": [],
   "source": [
    "train_tuple = list(zip(train_id_pre, train_id_hypo, train_y))\n",
    "test_tuple = list(zip(test_id_pre, test_id_hypo, test_y))"
   ]
  },
  {
   "cell_type": "code",
   "execution_count": 7,
   "metadata": {},
   "outputs": [],
   "source": [
    "# top 1% length\n",
    "MAX_LENGTH = sorted(len(x) for x in train_id_pre + train_id_hypo)[-int(len(train_id_pre + train_id_hypo)*0.01)]\n",
    "BATCH_SIZE = 32"
   ]
  },
  {
   "cell_type": "code",
   "execution_count": 8,
   "metadata": {},
   "outputs": [],
   "source": [
    "# build DataLoader\n",
    "class SNLIDataset(Dataset):\n",
    "    \"\"\"\n",
    "    Class that represents a train/validation/test dataset that's readable for PyTorch\n",
    "    Note that this class inherits torch.utils.data.Dataset\n",
    "    \"\"\"\n",
    "\n",
    "    def __init__(self, data_tuple):\n",
    "        \"\"\"\n",
    "        @param data_list: list of character\n",
    "        @param target_list: list of targets\n",
    "\n",
    "        \"\"\"\n",
    "        self.data_pre_list, self.data_hypo_list, self.target_list = zip(*data_tuple)\n",
    "        assert (len(self.data_pre_list) == len(self.target_list))\n",
    "        assert (len(self.data_hypo_list) == len(self.target_list))\n",
    "\n",
    "    def __len__(self):\n",
    "        return len(self.target_list)\n",
    "\n",
    "    def __getitem__(self, key):\n",
    "        \"\"\"\n",
    "        Triggered when you call dataset[i]\n",
    "        \"\"\"\n",
    "        char_idx1 = self.data_pre_list[key][:MAX_LENGTH]\n",
    "        char_idx2 = self.data_hypo_list[key][:MAX_LENGTH]\n",
    "        label = self.target_list[key]\n",
    "        return [char_idx1, char_idx2, len(char_idx1), len(char_idx2), label]\n",
    "\n",
    "def vocab_collate_func(batch):\n",
    "    \"\"\"\n",
    "    Customized function for DataLoader that dynamically pads the batch so that all\n",
    "    data have the same length\n",
    "    \"\"\"\n",
    "    data_list_pre = []\n",
    "    data_list_hypo = []\n",
    "    label_list = []\n",
    "    length_list_pre = []\n",
    "    length_list_hypo = []\n",
    "\n",
    "    for datum in batch:\n",
    "        label_list.append(datum[4])\n",
    "        length_list_pre.append(datum[2])\n",
    "        length_list_hypo.append(datum[3])\n",
    "    # padding\n",
    "    for datum in batch:\n",
    "        padded_vec_pre = np.pad(np.array(datum[0]),\n",
    "                                pad_width=((0,MAX_LENGTH-datum[2])),\n",
    "                                mode=\"constant\", constant_values=0)\n",
    "        padded_vec_hypo = np.pad(np.array(datum[1]),\n",
    "                                pad_width = ((0, MAX_LENGTH-datum[3])), \n",
    "                                mode = \"constant\", constant_values= 0)\n",
    "        data_list_pre.append(padded_vec_pre)\n",
    "        data_list_hypo.append(padded_vec_hypo)\n",
    "#     ind_dec_order_pre = np.argsort(length_list_pre)[::-1]\n",
    "#     ind_dec_order_hypo = np.argsort(length_list_hypo)[::-1]\n",
    "#     data_list_pre = np.array(data_list_pre)[ind_dec_order_pre]\n",
    "#     data_list_hypo = np.array(data_list_pre)[ind_dec_order_hypo]\n",
    "#     length_list_pre = np.array(length_list_pre)[ind_dec_order_pre]\n",
    "#     length_list_hypo = np.array(length_list_hypo)[ind_dec_order_hypo]\n",
    "#     label_list = np.array(label_list)[ind_dec_order]\n",
    "    if torch.cuda.is_available and torch.has_cudnn:\n",
    "        return [torch.from_numpy(np.array(data_list_pre)).cuda(), torch.from_numpy(np.array(data_list_hypo)).cuda(),\n",
    "            torch.LongTensor(length_list_pre).cuda(), torch.LongTensor(length_list_hypo).cuda(), torch.LongTensor(label_list).cuda()]\n",
    "    else:\n",
    "        return [torch.from_numpy(np.array(data_list_pre)), torch.from_numpy(np.array(data_list_hypo)),\n",
    "            torch.LongTensor(length_list_pre), torch.LongTensor(length_list_hypo), torch.LongTensor(label_list)]\n",
    "\n"
   ]
  },
  {
   "cell_type": "code",
   "execution_count": 9,
   "metadata": {},
   "outputs": [],
   "source": [
    "train_dataset = SNLIDataset(train_tuple)\n",
    "train_loader = torch.utils.data.DataLoader(dataset=train_dataset,\n",
    "                                           batch_size=BATCH_SIZE,\n",
    "                                           collate_fn=vocab_collate_func,\n",
    "                                           shuffle=True)\n",
    "\n",
    "val_dataset = SNLIDataset(test_tuple)\n",
    "val_loader = torch.utils.data.DataLoader(dataset=val_dataset,\n",
    "                                           batch_size=BATCH_SIZE,\n",
    "                                           collate_fn=vocab_collate_func,\n",
    "                                           shuffle=False)"
   ]
  },
  {
   "cell_type": "markdown",
   "metadata": {},
   "source": [
    "## CNN"
   ]
  },
  {
   "cell_type": "code",
   "execution_count": 38,
   "metadata": {},
   "outputs": [],
   "source": [
    "#CNN\n",
    "class CNN(nn.Module):\n",
    "    def __init__(self, emb_size, hidden_size, kernel_size, num_classes, dropout_layer = False):\n",
    "\n",
    "        super(CNN, self).__init__()\n",
    "        self.dropout_layer = dropout_layer\n",
    "        self.hidden_size = hidden_size\n",
    "        self.embedding = nn.Embedding.from_pretrained(torch.from_numpy(loaded_embeddings_ft).float(), freeze=True)\n",
    "    \n",
    "        self.conv1 = nn.Conv1d(emb_size, hidden_size, kernel_size, padding=0)\n",
    "        self.conv2 = nn.Conv1d(hidden_size, hidden_size, kernel_size, padding=0)\n",
    "#         self.pool = nn.MaxPool1d(2, stride=2)\n",
    "        self.linear1 = nn.Linear(hidden_size, hidden_size)\n",
    "        self.linear2 = nn.Linear(hidden_size, num_classes)\n",
    "        self.dropout = nn.Dropout(p=0.2)\n",
    "        self.relu = nn.ReLU()\n",
    "\n",
    "    def forward(self, x1, x2, length1, length2):\n",
    "        batch_size, seq_len1 = x1.size()\n",
    "        _, seq_len2 = x2.size()\n",
    "\n",
    "        embed1 = self.embedding(x1)\n",
    "        hidden1 = self.conv1(embed1.transpose(1,2)).transpose(1, 2)\n",
    "        hidden1 = self.relu(hidden1)\n",
    "        hidden1 = self.conv2(hidden1.transpose(1,2)).transpose(1,2)\n",
    "        hidden1 = self.relu(hidden1)\n",
    "#         hidden1 = self.pool(hidden1)\n",
    "#         hidden1 = torch.sum(hidden1, dim=1)\n",
    "#         hidden1 = torch.max(hidden1, dim=1)[0]\n",
    "        \n",
    "        embed2 = self.embedding(x2)\n",
    "        hidden2 = self.conv1(embed2.transpose(1,2)).transpose(1,2)\n",
    "        hidden2 = self.relu(hidden2)\n",
    "        hidden2 = self.conv2(hidden2.transpose(1,2)).transpose(1,2)\n",
    "        hidden2 = self.relu(hidden2)\n",
    "#         hidden2 = self.pool(hidden2)\n",
    "#         hidden2 = torch.sum(hidden2, dim=1)\n",
    "#         hidden2 = torch.max(hidden2, dim=1)[0]\n",
    "    \n",
    "        hidden = torch.cat((hidden1, hidden2), dim = 1)\n",
    "        hidden = torch.max(hidden, dim=1)[0]\n",
    "        if self.dropout_layer:\n",
    "            hidden = self.dropout(hidden)\n",
    "        hidden = self.linear1(hidden)\n",
    "        hidden = F.relu(hidden)\n",
    "        logits = self.linear2(hidden)\n",
    "        \n",
    "        return logits"
   ]
  },
  {
   "cell_type": "code",
   "execution_count": 39,
   "metadata": {},
   "outputs": [],
   "source": [
    "def test_model_cnn(loader, model):\n",
    "    \"\"\"\n",
    "    Help function that tests the model's performance on a dataset\n",
    "    @param: loader - data loader for the dataset to test against\n",
    "    \"\"\"\n",
    "    correct = 0\n",
    "    total = 0\n",
    "    model.eval()\n",
    "    for data1, data2, length1, length2, labels in loader:\n",
    "        data1_batch, data2_batch, length1_batch, length2_batch, label_batch = data1, data2, length1, length2, labels\n",
    "        outputs = F.softmax(model(data1_batch,data2_batch, length1_batch, length2_batch), dim=1)\n",
    "        predicted = outputs.max(1, keepdim=True)[1]\n",
    "\n",
    "        total += labels.size(0)\n",
    "        correct += predicted.eq(labels.view_as(predicted)).sum().item()\n",
    "    return (100 * correct / total)"
   ]
  },
  {
   "cell_type": "code",
   "execution_count": 57,
   "metadata": {},
   "outputs": [
    {
     "name": "stdout",
     "output_type": "stream",
     "text": [
      "Epoch: [1/10], Step: [101/3125], Validation Acc: 33.1\n",
      "Epoch: [1/10], Step: [201/3125], Validation Acc: 34.8\n",
      "Epoch: [1/10], Step: [301/3125], Validation Acc: 45.1\n",
      "Epoch: [1/10], Step: [401/3125], Validation Acc: 48.6\n",
      "Epoch: [1/10], Step: [501/3125], Validation Acc: 50.5\n",
      "Epoch: [1/10], Step: [601/3125], Validation Acc: 53.1\n",
      "Epoch: [1/10], Step: [701/3125], Validation Acc: 52.0\n",
      "Epoch: [1/10], Step: [801/3125], Validation Acc: 52.8\n",
      "Epoch: [1/10], Step: [901/3125], Validation Acc: 51.2\n",
      "Epoch: [1/10], Step: [1001/3125], Validation Acc: 53.2\n",
      "Epoch: [1/10], Step: [1101/3125], Validation Acc: 53.3\n",
      "Epoch: [1/10], Step: [1201/3125], Validation Acc: 53.9\n",
      "Epoch: [1/10], Step: [1301/3125], Validation Acc: 54.0\n",
      "Epoch: [1/10], Step: [1401/3125], Validation Acc: 53.8\n",
      "Epoch: [1/10], Step: [1501/3125], Validation Acc: 54.8\n",
      "Epoch: [1/10], Step: [1601/3125], Validation Acc: 53.8\n",
      "Epoch: [1/10], Step: [1701/3125], Validation Acc: 55.8\n",
      "Epoch: [1/10], Step: [1801/3125], Validation Acc: 56.2\n",
      "Epoch: [1/10], Step: [1901/3125], Validation Acc: 56.6\n",
      "Epoch: [1/10], Step: [2001/3125], Validation Acc: 55.9\n",
      "Epoch: [1/10], Step: [2101/3125], Validation Acc: 56.9\n",
      "Epoch: [1/10], Step: [2201/3125], Validation Acc: 56.0\n",
      "Epoch: [1/10], Step: [2301/3125], Validation Acc: 58.3\n",
      "Epoch: [1/10], Step: [2401/3125], Validation Acc: 57.0\n",
      "Epoch: [1/10], Step: [2501/3125], Validation Acc: 57.3\n",
      "Epoch: [1/10], Step: [2601/3125], Validation Acc: 55.7\n",
      "Epoch: [1/10], Step: [2701/3125], Validation Acc: 57.8\n",
      "Epoch: [1/10], Step: [2801/3125], Validation Acc: 58.0\n",
      "Epoch: [1/10], Step: [2901/3125], Validation Acc: 57.4\n",
      "Epoch: [1/10], Step: [3001/3125], Validation Acc: 58.6\n",
      "Epoch: [1/10], Step: [3101/3125], Validation Acc: 57.3\n",
      "Epoch: [2/10], Step: [101/3125], Validation Acc: 58.9\n",
      "Epoch: [2/10], Step: [201/3125], Validation Acc: 60.3\n",
      "Epoch: [2/10], Step: [301/3125], Validation Acc: 56.7\n",
      "Epoch: [2/10], Step: [401/3125], Validation Acc: 58.2\n",
      "Epoch: [2/10], Step: [501/3125], Validation Acc: 59.6\n",
      "Epoch: [2/10], Step: [601/3125], Validation Acc: 58.5\n",
      "Epoch: [2/10], Step: [701/3125], Validation Acc: 58.9\n",
      "Epoch: [2/10], Step: [801/3125], Validation Acc: 60.9\n",
      "Epoch: [2/10], Step: [901/3125], Validation Acc: 59.5\n",
      "Epoch: [2/10], Step: [1001/3125], Validation Acc: 58.0\n",
      "Epoch: [2/10], Step: [1101/3125], Validation Acc: 60.9\n",
      "Epoch: [2/10], Step: [1201/3125], Validation Acc: 60.4\n",
      "Epoch: [2/10], Step: [1301/3125], Validation Acc: 61.3\n",
      "Epoch: [2/10], Step: [1401/3125], Validation Acc: 61.5\n",
      "Epoch: [2/10], Step: [1501/3125], Validation Acc: 60.0\n",
      "Epoch: [2/10], Step: [1601/3125], Validation Acc: 61.7\n",
      "Epoch: [2/10], Step: [1701/3125], Validation Acc: 61.3\n",
      "Epoch: [2/10], Step: [1801/3125], Validation Acc: 61.1\n",
      "Epoch: [2/10], Step: [1901/3125], Validation Acc: 61.0\n",
      "Epoch: [2/10], Step: [2001/3125], Validation Acc: 62.0\n",
      "Epoch: [2/10], Step: [2101/3125], Validation Acc: 61.9\n",
      "Epoch: [2/10], Step: [2201/3125], Validation Acc: 60.6\n",
      "Epoch: [2/10], Step: [2301/3125], Validation Acc: 60.9\n",
      "Epoch: [2/10], Step: [2401/3125], Validation Acc: 61.9\n",
      "Epoch: [2/10], Step: [2501/3125], Validation Acc: 59.5\n",
      "Epoch: [2/10], Step: [2601/3125], Validation Acc: 61.8\n",
      "Epoch: [2/10], Step: [2701/3125], Validation Acc: 62.3\n",
      "Epoch: [2/10], Step: [2801/3125], Validation Acc: 61.6\n",
      "Epoch: [2/10], Step: [2901/3125], Validation Acc: 62.3\n",
      "Epoch: [2/10], Step: [3001/3125], Validation Acc: 61.6\n",
      "Epoch: [2/10], Step: [3101/3125], Validation Acc: 61.4\n",
      "Epoch: [3/10], Step: [101/3125], Validation Acc: 63.4\n",
      "Epoch: [3/10], Step: [201/3125], Validation Acc: 60.2\n",
      "Epoch: [3/10], Step: [301/3125], Validation Acc: 62.3\n",
      "Epoch: [3/10], Step: [401/3125], Validation Acc: 60.9\n",
      "Epoch: [3/10], Step: [501/3125], Validation Acc: 61.8\n",
      "Epoch: [3/10], Step: [601/3125], Validation Acc: 61.3\n",
      "Epoch: [3/10], Step: [701/3125], Validation Acc: 61.4\n",
      "Epoch: [3/10], Step: [801/3125], Validation Acc: 62.6\n",
      "Epoch: [3/10], Step: [901/3125], Validation Acc: 62.3\n",
      "Epoch: [3/10], Step: [1001/3125], Validation Acc: 63.0\n",
      "Epoch: [3/10], Step: [1101/3125], Validation Acc: 63.9\n",
      "Epoch: [3/10], Step: [1201/3125], Validation Acc: 62.3\n",
      "Epoch: [3/10], Step: [1301/3125], Validation Acc: 62.8\n",
      "Epoch: [3/10], Step: [1401/3125], Validation Acc: 62.8\n",
      "Epoch: [3/10], Step: [1501/3125], Validation Acc: 63.0\n",
      "Epoch: [3/10], Step: [1601/3125], Validation Acc: 62.3\n",
      "Epoch: [3/10], Step: [1701/3125], Validation Acc: 62.9\n",
      "Epoch: [3/10], Step: [1801/3125], Validation Acc: 63.7\n",
      "Epoch: [3/10], Step: [1901/3125], Validation Acc: 61.4\n",
      "Epoch: [3/10], Step: [2001/3125], Validation Acc: 63.8\n",
      "Epoch: [3/10], Step: [2101/3125], Validation Acc: 64.1\n",
      "Epoch: [3/10], Step: [2201/3125], Validation Acc: 63.3\n",
      "Epoch: [3/10], Step: [2301/3125], Validation Acc: 61.7\n",
      "Epoch: [3/10], Step: [2401/3125], Validation Acc: 60.7\n",
      "Epoch: [3/10], Step: [2501/3125], Validation Acc: 63.6\n",
      "Epoch: [3/10], Step: [2601/3125], Validation Acc: 64.1\n",
      "Epoch: [3/10], Step: [2701/3125], Validation Acc: 64.0\n",
      "Epoch: [3/10], Step: [2801/3125], Validation Acc: 63.8\n",
      "Epoch: [3/10], Step: [2901/3125], Validation Acc: 63.2\n",
      "Epoch: [3/10], Step: [3001/3125], Validation Acc: 63.3\n",
      "Epoch: [3/10], Step: [3101/3125], Validation Acc: 63.4\n",
      "Epoch: [4/10], Step: [101/3125], Validation Acc: 63.6\n",
      "Epoch: [4/10], Step: [201/3125], Validation Acc: 61.4\n",
      "Epoch: [4/10], Step: [301/3125], Validation Acc: 63.6\n",
      "Epoch: [4/10], Step: [401/3125], Validation Acc: 62.5\n",
      "Epoch: [4/10], Step: [501/3125], Validation Acc: 63.2\n",
      "Epoch: [4/10], Step: [601/3125], Validation Acc: 61.5\n",
      "Epoch: [4/10], Step: [701/3125], Validation Acc: 62.9\n",
      "Epoch: [4/10], Step: [801/3125], Validation Acc: 62.2\n",
      "Epoch: [4/10], Step: [901/3125], Validation Acc: 61.5\n",
      "Epoch: [4/10], Step: [1001/3125], Validation Acc: 62.2\n",
      "Epoch: [4/10], Step: [1101/3125], Validation Acc: 62.5\n",
      "Epoch: [4/10], Step: [1201/3125], Validation Acc: 63.1\n",
      "Epoch: [4/10], Step: [1301/3125], Validation Acc: 62.6\n",
      "Epoch: [4/10], Step: [1401/3125], Validation Acc: 64.2\n",
      "Epoch: [4/10], Step: [1501/3125], Validation Acc: 62.9\n",
      "Epoch: [4/10], Step: [1601/3125], Validation Acc: 62.7\n",
      "Epoch: [4/10], Step: [1701/3125], Validation Acc: 63.1\n",
      "Epoch: [4/10], Step: [1801/3125], Validation Acc: 63.8\n",
      "Epoch: [4/10], Step: [1901/3125], Validation Acc: 62.0\n",
      "Epoch: [4/10], Step: [2001/3125], Validation Acc: 62.5\n",
      "Epoch: [4/10], Step: [2101/3125], Validation Acc: 60.7\n",
      "Epoch: [4/10], Step: [2201/3125], Validation Acc: 63.7\n",
      "Epoch: [4/10], Step: [2301/3125], Validation Acc: 61.3\n",
      "Epoch: [4/10], Step: [2401/3125], Validation Acc: 63.7\n",
      "Epoch: [4/10], Step: [2501/3125], Validation Acc: 62.1\n",
      "Epoch: [4/10], Step: [2601/3125], Validation Acc: 63.0\n",
      "Epoch: [4/10], Step: [2701/3125], Validation Acc: 62.8\n",
      "Epoch: [4/10], Step: [2801/3125], Validation Acc: 62.7\n",
      "Epoch: [4/10], Step: [2901/3125], Validation Acc: 63.5\n",
      "Epoch: [4/10], Step: [3001/3125], Validation Acc: 63.1\n",
      "Epoch: [4/10], Step: [3101/3125], Validation Acc: 62.8\n",
      "Epoch: [5/10], Step: [101/3125], Validation Acc: 63.3\n",
      "Epoch: [5/10], Step: [201/3125], Validation Acc: 64.1\n",
      "Epoch: [5/10], Step: [301/3125], Validation Acc: 63.3\n",
      "Epoch: [5/10], Step: [401/3125], Validation Acc: 62.4\n",
      "Epoch: [5/10], Step: [501/3125], Validation Acc: 63.2\n",
      "Epoch: [5/10], Step: [601/3125], Validation Acc: 65.0\n",
      "Epoch: [5/10], Step: [701/3125], Validation Acc: 63.7\n",
      "Epoch: [5/10], Step: [801/3125], Validation Acc: 63.5\n",
      "Epoch: [5/10], Step: [901/3125], Validation Acc: 64.4\n",
      "Epoch: [5/10], Step: [1001/3125], Validation Acc: 63.4\n",
      "Epoch: [5/10], Step: [1101/3125], Validation Acc: 63.7\n",
      "Epoch: [5/10], Step: [1201/3125], Validation Acc: 64.3\n",
      "Epoch: [5/10], Step: [1301/3125], Validation Acc: 62.5\n",
      "Epoch: [5/10], Step: [1401/3125], Validation Acc: 63.8\n",
      "Epoch: [5/10], Step: [1501/3125], Validation Acc: 64.3\n",
      "Epoch: [5/10], Step: [1601/3125], Validation Acc: 63.6\n",
      "Epoch: [5/10], Step: [1701/3125], Validation Acc: 62.3\n",
      "Epoch: [5/10], Step: [1801/3125], Validation Acc: 62.5\n",
      "Epoch: [5/10], Step: [1901/3125], Validation Acc: 63.6\n",
      "Epoch: [5/10], Step: [2001/3125], Validation Acc: 63.2\n",
      "Epoch: [5/10], Step: [2101/3125], Validation Acc: 64.3\n",
      "Epoch: [5/10], Step: [2201/3125], Validation Acc: 63.2\n",
      "Epoch: [5/10], Step: [2301/3125], Validation Acc: 62.7\n",
      "Epoch: [5/10], Step: [2401/3125], Validation Acc: 62.9\n",
      "Epoch: [5/10], Step: [2501/3125], Validation Acc: 61.4\n",
      "Epoch: [5/10], Step: [2601/3125], Validation Acc: 63.6\n"
     ]
    },
    {
     "name": "stdout",
     "output_type": "stream",
     "text": [
      "Epoch: [5/10], Step: [2701/3125], Validation Acc: 62.3\n",
      "Epoch: [5/10], Step: [2801/3125], Validation Acc: 63.3\n",
      "Epoch: [5/10], Step: [2901/3125], Validation Acc: 61.7\n",
      "Epoch: [5/10], Step: [3001/3125], Validation Acc: 64.7\n",
      "Epoch: [5/10], Step: [3101/3125], Validation Acc: 63.9\n",
      "Epoch: [6/10], Step: [101/3125], Validation Acc: 63.3\n",
      "Epoch: [6/10], Step: [201/3125], Validation Acc: 63.5\n",
      "Epoch: [6/10], Step: [301/3125], Validation Acc: 61.8\n",
      "Epoch: [6/10], Step: [401/3125], Validation Acc: 64.0\n",
      "Epoch: [6/10], Step: [501/3125], Validation Acc: 60.6\n",
      "Epoch: [6/10], Step: [601/3125], Validation Acc: 61.7\n",
      "Epoch: [6/10], Step: [701/3125], Validation Acc: 63.6\n",
      "Epoch: [6/10], Step: [801/3125], Validation Acc: 63.5\n",
      "Epoch: [6/10], Step: [901/3125], Validation Acc: 62.8\n",
      "Epoch: [6/10], Step: [1001/3125], Validation Acc: 64.5\n",
      "Epoch: [6/10], Step: [1101/3125], Validation Acc: 63.3\n",
      "Epoch: [6/10], Step: [1201/3125], Validation Acc: 63.9\n",
      "Epoch: [6/10], Step: [1301/3125], Validation Acc: 62.7\n",
      "Epoch: [6/10], Step: [1401/3125], Validation Acc: 60.8\n",
      "Epoch: [6/10], Step: [1501/3125], Validation Acc: 63.0\n",
      "Epoch: [6/10], Step: [1601/3125], Validation Acc: 63.0\n",
      "Epoch: [6/10], Step: [1701/3125], Validation Acc: 63.9\n",
      "Epoch: [6/10], Step: [1801/3125], Validation Acc: 62.9\n",
      "Epoch: [6/10], Step: [1901/3125], Validation Acc: 63.3\n",
      "Epoch: [6/10], Step: [2001/3125], Validation Acc: 63.3\n",
      "Epoch: [6/10], Step: [2101/3125], Validation Acc: 64.7\n",
      "Epoch: [6/10], Step: [2201/3125], Validation Acc: 64.0\n",
      "Epoch: [6/10], Step: [2301/3125], Validation Acc: 64.7\n",
      "Epoch: [6/10], Step: [2401/3125], Validation Acc: 63.2\n",
      "Epoch: [6/10], Step: [2501/3125], Validation Acc: 63.7\n",
      "Epoch: [6/10], Step: [2601/3125], Validation Acc: 61.2\n",
      "Epoch: [6/10], Step: [2701/3125], Validation Acc: 63.3\n",
      "Epoch: [6/10], Step: [2801/3125], Validation Acc: 62.8\n",
      "Epoch: [6/10], Step: [2901/3125], Validation Acc: 63.7\n",
      "Epoch: [6/10], Step: [3001/3125], Validation Acc: 63.5\n",
      "Epoch: [6/10], Step: [3101/3125], Validation Acc: 63.5\n",
      "Epoch: [7/10], Step: [101/3125], Validation Acc: 62.6\n",
      "Epoch: [7/10], Step: [201/3125], Validation Acc: 64.6\n",
      "Epoch: [7/10], Step: [301/3125], Validation Acc: 63.9\n",
      "Epoch: [7/10], Step: [401/3125], Validation Acc: 64.6\n",
      "Epoch: [7/10], Step: [501/3125], Validation Acc: 63.9\n",
      "Epoch: [7/10], Step: [601/3125], Validation Acc: 64.3\n",
      "Epoch: [7/10], Step: [701/3125], Validation Acc: 62.7\n",
      "Epoch: [7/10], Step: [801/3125], Validation Acc: 63.4\n",
      "Epoch: [7/10], Step: [901/3125], Validation Acc: 63.0\n",
      "Epoch: [7/10], Step: [1001/3125], Validation Acc: 61.6\n",
      "Epoch: [7/10], Step: [1101/3125], Validation Acc: 61.4\n",
      "Epoch: [7/10], Step: [1201/3125], Validation Acc: 62.9\n",
      "Epoch: [7/10], Step: [1301/3125], Validation Acc: 63.0\n",
      "Epoch: [7/10], Step: [1401/3125], Validation Acc: 63.1\n",
      "Epoch: [7/10], Step: [1501/3125], Validation Acc: 62.4\n",
      "Epoch: [7/10], Step: [1601/3125], Validation Acc: 63.3\n",
      "Epoch: [7/10], Step: [1701/3125], Validation Acc: 62.4\n",
      "Epoch: [7/10], Step: [1801/3125], Validation Acc: 62.1\n",
      "Epoch: [7/10], Step: [1901/3125], Validation Acc: 62.2\n",
      "Epoch: [7/10], Step: [2001/3125], Validation Acc: 62.6\n",
      "Epoch: [7/10], Step: [2101/3125], Validation Acc: 61.7\n",
      "Epoch: [7/10], Step: [2201/3125], Validation Acc: 62.1\n",
      "Epoch: [7/10], Step: [2301/3125], Validation Acc: 64.8\n",
      "Epoch: [7/10], Step: [2401/3125], Validation Acc: 62.8\n",
      "Epoch: [7/10], Step: [2501/3125], Validation Acc: 63.9\n",
      "Epoch: [7/10], Step: [2601/3125], Validation Acc: 61.5\n",
      "Epoch: [7/10], Step: [2701/3125], Validation Acc: 62.7\n",
      "Epoch: [7/10], Step: [2801/3125], Validation Acc: 60.7\n",
      "Epoch: [7/10], Step: [2901/3125], Validation Acc: 60.9\n",
      "Epoch: [7/10], Step: [3001/3125], Validation Acc: 62.6\n",
      "Epoch: [7/10], Step: [3101/3125], Validation Acc: 61.7\n",
      "Epoch: [8/10], Step: [101/3125], Validation Acc: 61.2\n",
      "Epoch: [8/10], Step: [201/3125], Validation Acc: 60.1\n",
      "Epoch: [8/10], Step: [301/3125], Validation Acc: 60.2\n",
      "Epoch: [8/10], Step: [401/3125], Validation Acc: 59.9\n",
      "Epoch: [8/10], Step: [501/3125], Validation Acc: 63.5\n",
      "Epoch: [8/10], Step: [601/3125], Validation Acc: 62.1\n",
      "Epoch: [8/10], Step: [701/3125], Validation Acc: 61.1\n",
      "Epoch: [8/10], Step: [801/3125], Validation Acc: 60.0\n",
      "Epoch: [8/10], Step: [901/3125], Validation Acc: 60.1\n",
      "Epoch: [8/10], Step: [1001/3125], Validation Acc: 60.5\n",
      "Epoch: [8/10], Step: [1101/3125], Validation Acc: 62.1\n",
      "Epoch: [8/10], Step: [1201/3125], Validation Acc: 62.0\n",
      "Epoch: [8/10], Step: [1301/3125], Validation Acc: 62.0\n",
      "Epoch: [8/10], Step: [1401/3125], Validation Acc: 61.7\n",
      "Epoch: [8/10], Step: [1501/3125], Validation Acc: 62.0\n",
      "Epoch: [8/10], Step: [1601/3125], Validation Acc: 63.0\n",
      "Epoch: [8/10], Step: [1701/3125], Validation Acc: 62.4\n",
      "Epoch: [8/10], Step: [1801/3125], Validation Acc: 63.1\n",
      "Epoch: [8/10], Step: [1901/3125], Validation Acc: 61.7\n",
      "Epoch: [8/10], Step: [2001/3125], Validation Acc: 61.3\n",
      "Epoch: [8/10], Step: [2101/3125], Validation Acc: 61.5\n",
      "Epoch: [8/10], Step: [2201/3125], Validation Acc: 62.2\n",
      "Epoch: [8/10], Step: [2301/3125], Validation Acc: 60.4\n",
      "Epoch: [8/10], Step: [2401/3125], Validation Acc: 61.0\n",
      "Epoch: [8/10], Step: [2501/3125], Validation Acc: 62.0\n",
      "Epoch: [8/10], Step: [2601/3125], Validation Acc: 62.1\n",
      "Epoch: [8/10], Step: [2701/3125], Validation Acc: 60.7\n",
      "Epoch: [8/10], Step: [2801/3125], Validation Acc: 61.9\n",
      "Epoch: [8/10], Step: [2901/3125], Validation Acc: 61.8\n",
      "Epoch: [8/10], Step: [3001/3125], Validation Acc: 62.9\n",
      "Epoch: [8/10], Step: [3101/3125], Validation Acc: 62.7\n",
      "Epoch: [9/10], Step: [101/3125], Validation Acc: 62.0\n",
      "Epoch: [9/10], Step: [201/3125], Validation Acc: 63.0\n",
      "Epoch: [9/10], Step: [301/3125], Validation Acc: 60.6\n",
      "Epoch: [9/10], Step: [401/3125], Validation Acc: 62.0\n",
      "Epoch: [9/10], Step: [501/3125], Validation Acc: 61.5\n",
      "Epoch: [9/10], Step: [601/3125], Validation Acc: 61.8\n",
      "Epoch: [9/10], Step: [701/3125], Validation Acc: 59.7\n",
      "Epoch: [9/10], Step: [801/3125], Validation Acc: 61.1\n",
      "Epoch: [9/10], Step: [901/3125], Validation Acc: 62.2\n",
      "Epoch: [9/10], Step: [1001/3125], Validation Acc: 63.0\n",
      "Epoch: [9/10], Step: [1101/3125], Validation Acc: 61.3\n",
      "Epoch: [9/10], Step: [1201/3125], Validation Acc: 61.2\n",
      "Epoch: [9/10], Step: [1301/3125], Validation Acc: 61.1\n",
      "Epoch: [9/10], Step: [1401/3125], Validation Acc: 61.2\n",
      "Epoch: [9/10], Step: [1501/3125], Validation Acc: 61.1\n",
      "Epoch: [9/10], Step: [1601/3125], Validation Acc: 59.8\n",
      "Epoch: [9/10], Step: [1701/3125], Validation Acc: 61.3\n",
      "Epoch: [9/10], Step: [1801/3125], Validation Acc: 61.1\n",
      "Epoch: [9/10], Step: [1901/3125], Validation Acc: 62.3\n",
      "Epoch: [9/10], Step: [2001/3125], Validation Acc: 59.7\n",
      "Epoch: [9/10], Step: [2101/3125], Validation Acc: 62.5\n",
      "Epoch: [9/10], Step: [2201/3125], Validation Acc: 61.2\n",
      "Epoch: [9/10], Step: [2301/3125], Validation Acc: 61.1\n",
      "Epoch: [9/10], Step: [2401/3125], Validation Acc: 61.0\n",
      "Epoch: [9/10], Step: [2501/3125], Validation Acc: 59.8\n",
      "Epoch: [9/10], Step: [2601/3125], Validation Acc: 61.8\n",
      "Epoch: [9/10], Step: [2701/3125], Validation Acc: 62.8\n",
      "Epoch: [9/10], Step: [2801/3125], Validation Acc: 62.1\n",
      "Epoch: [9/10], Step: [2901/3125], Validation Acc: 60.8\n",
      "Epoch: [9/10], Step: [3001/3125], Validation Acc: 61.0\n",
      "Epoch: [9/10], Step: [3101/3125], Validation Acc: 61.6\n",
      "Epoch: [10/10], Step: [101/3125], Validation Acc: 61.3\n",
      "Epoch: [10/10], Step: [201/3125], Validation Acc: 62.2\n",
      "Epoch: [10/10], Step: [301/3125], Validation Acc: 62.2\n",
      "Epoch: [10/10], Step: [401/3125], Validation Acc: 62.6\n",
      "Epoch: [10/10], Step: [501/3125], Validation Acc: 62.5\n",
      "Epoch: [10/10], Step: [601/3125], Validation Acc: 62.5\n",
      "Epoch: [10/10], Step: [701/3125], Validation Acc: 59.3\n",
      "Epoch: [10/10], Step: [801/3125], Validation Acc: 60.8\n",
      "Epoch: [10/10], Step: [901/3125], Validation Acc: 60.9\n",
      "Epoch: [10/10], Step: [1001/3125], Validation Acc: 60.5\n",
      "Epoch: [10/10], Step: [1101/3125], Validation Acc: 61.1\n",
      "Epoch: [10/10], Step: [1201/3125], Validation Acc: 61.2\n",
      "Epoch: [10/10], Step: [1301/3125], Validation Acc: 62.1\n",
      "Epoch: [10/10], Step: [1401/3125], Validation Acc: 60.7\n",
      "Epoch: [10/10], Step: [1501/3125], Validation Acc: 62.2\n",
      "Epoch: [10/10], Step: [1601/3125], Validation Acc: 61.8\n",
      "Epoch: [10/10], Step: [1701/3125], Validation Acc: 61.5\n",
      "Epoch: [10/10], Step: [1801/3125], Validation Acc: 60.3\n",
      "Epoch: [10/10], Step: [1901/3125], Validation Acc: 60.9\n",
      "Epoch: [10/10], Step: [2001/3125], Validation Acc: 58.9\n",
      "Epoch: [10/10], Step: [2101/3125], Validation Acc: 60.0\n"
     ]
    },
    {
     "name": "stdout",
     "output_type": "stream",
     "text": [
      "Epoch: [10/10], Step: [2201/3125], Validation Acc: 61.6\n",
      "Epoch: [10/10], Step: [2301/3125], Validation Acc: 62.2\n",
      "Epoch: [10/10], Step: [2401/3125], Validation Acc: 61.0\n",
      "Epoch: [10/10], Step: [2501/3125], Validation Acc: 60.5\n",
      "Epoch: [10/10], Step: [2601/3125], Validation Acc: 60.2\n",
      "Epoch: [10/10], Step: [2701/3125], Validation Acc: 60.3\n",
      "Epoch: [10/10], Step: [2801/3125], Validation Acc: 61.9\n",
      "Epoch: [10/10], Step: [2901/3125], Validation Acc: 62.0\n",
      "Epoch: [10/10], Step: [3001/3125], Validation Acc: 60.9\n",
      "Epoch: [10/10], Step: [3101/3125], Validation Acc: 60.5\n"
     ]
    }
   ],
   "source": [
    "if torch.cuda.is_available and torch.has_cudnn:\n",
    "    model = CNN(emb_size=300, hidden_size=200, kernel_size=3, num_classes=3).cuda()\n",
    "else:\n",
    "    model = CNN(emb_size=300, hidden_size=200, kernel_size=3, num_classes=3)\n",
    "learning_rate = 3e-4\n",
    "num_epochs = 10 # number epoch to train\n",
    "\n",
    "# Criterion and Optimizer\n",
    "criterion = torch.nn.CrossEntropyLoss()\n",
    "optimizer = torch.optim.Adam(model.parameters(), lr=learning_rate)\n",
    "\n",
    "# Train the model\n",
    "total_step = len(train_loader)\n",
    "\n",
    "cnn_train_loss_list = []\n",
    "cnn_val_acc_list = []\n",
    "for epoch in range(num_epochs):\n",
    "    for i, (data1, data2, length1, length2, labels) in enumerate(train_loader):\n",
    "        model.train()\n",
    "        optimizer.zero_grad()\n",
    "        # Forward pass\n",
    "        outputs = model(data1, data2, length1, length2)\n",
    "        loss = criterion(outputs, labels)\n",
    "        \n",
    "        # Backward and optimize\n",
    "        loss.backward()\n",
    "        optimizer.step()\n",
    "        cnn_train_loss_list.append(loss.item())\n",
    "        # validate every 100 iterations\n",
    "        if i > 0 and i % 100 == 0:\n",
    "            # validate\n",
    "            val_acc = test_model_cnn(val_loader, model)\n",
    "            cnn_val_acc_list.append(val_acc)\n",
    "            print('Epoch: [{}/{}], Step: [{}/{}], Validation Acc: {}'.format(\n",
    "                       epoch+1, num_epochs, i+1, len(train_loader), val_acc))"
   ]
  },
  {
   "cell_type": "markdown",
   "metadata": {},
   "source": [
    "### Visualization"
   ]
  },
  {
   "cell_type": "code",
   "execution_count": 59,
   "metadata": {},
   "outputs": [],
   "source": [
    "def plot_nn(train_loss, val_acc, title_name = 'CNN'):\n",
    "    plt.figure(figsize=(15, 5))\n",
    "    ax1 = plt.subplot(121)\n",
    "    ax1.plot(train_loss)\n",
    "    ax1.set_xlabel('iterations')\n",
    "    ax1.set_ylabel('training loss')\n",
    "    ax2 = plt.subplot(122)\n",
    "    ax2.plot(val_acc)\n",
    "    ax2.set_xlabel('iterations')\n",
    "    ax2.set_ylabel('validation accuracy')\n",
    "    plt.suptitle(title_name)\n",
    "    plt.show()"
   ]
  },
  {
   "cell_type": "code",
   "execution_count": 60,
   "metadata": {},
   "outputs": [
    {
     "data": {
      "image/png": "[encoded data removed]",
      "text/plain": [
       "<matplotlib.figure.Figure at 0x2b2a98d4d940>"
      ]
     },
     "metadata": {
      "needs_background": "light"
     },
     "output_type": "display_data"
    }
   ],
   "source": [
    "plot_nn(cnn_train_loss_list, cnn_val_acc_list)"
   ]
  },
  {
   "cell_type": "markdown",
   "metadata": {},
   "source": [
    "### Tuning"
   ]
  },
  {
   "cell_type": "code",
   "execution_count": 44,
   "metadata": {},
   "outputs": [],
   "source": [
    "def tuning_cnn(hidden_s, kernel_s, dropout_l = False):\n",
    "    if torch.cuda.is_available and torch.has_cudnn:\n",
    "        model = CNN(emb_size=300, hidden_size = hidden_s, kernel_size=kernel_s, num_classes=3, dropout_layer = dropout_l).cuda()\n",
    "    else:\n",
    "        model = CNN(emb_size=300, hidden_size = hidden_s, kernel_size=kernel_s, num_classes=3, dropout_layer = dropout_l)\n",
    "\n",
    "    learning_rate = 3e-4\n",
    "    num_epochs = 5 # number epoch to train\n",
    "\n",
    "    # Criterion and Optimizer\n",
    "    criterion = torch.nn.CrossEntropyLoss()\n",
    "    optimizer = torch.optim.Adam(model.parameters(), lr=learning_rate)\n",
    "\n",
    "    # Train the model\n",
    "    total_step = len(train_loader)\n",
    "    for epoch in range(num_epochs):\n",
    "        for i, (data1, data2, length1, length2, labels) in enumerate(train_loader):\n",
    "            model.train()\n",
    "            optimizer.zero_grad()\n",
    "            # Forward pass\n",
    "            outputs = model(data1, data2, length1, length2)\n",
    "            loss = criterion(outputs, labels)\n",
    "\n",
    "            # Backward and optimize\n",
    "            loss.backward()\n",
    "            optimizer.step()\n",
    "    \n",
    "    val_acc = test_model_cnn(val_loader, model)                \n",
    "    return (loss.item(), val_acc)"
   ]
  },
  {
   "cell_type": "code",
   "execution_count": 45,
   "metadata": {},
   "outputs": [],
   "source": [
    "def plot_tune(train_list, val_list, y_list, parameter_name = 'hidden dimension', title_name = 'CNN'):\n",
    "    plt.figure(figsize=(15, 5))\n",
    "    ax1 = plt.subplot(121)\n",
    "    ax1.plot(y_list, train_list)\n",
    "    ax1.set_xlabel(parameter_name)\n",
    "    ax1.set_ylabel('training loss')\n",
    "    ax2 = plt.subplot(122)\n",
    "    ax2.plot(y_list, val_list)\n",
    "    ax2.set_xlabel(parameter_name)\n",
    "    ax2.set_ylabel('validation accuracy')\n",
    "    plt.suptitle(title_name + ' Tuning Parameters')\n",
    "    plt.show()"
   ]
  },
  {
   "cell_type": "code",
   "execution_count": 63,
   "metadata": {},
   "outputs": [],
   "source": [
    "# hidden-dimension\n",
    "cnn_train_hidden = []\n",
    "cnn_val_hidden = []\n",
    "cnn_hidden = [100, 200, 300, 400]\n",
    "for num in cnn_hidden:\n",
    "    loss, val = tuning_cnn(hidden_s=num, kernel_s=3)\n",
    "    cnn_train_hidden.append(loss)\n",
    "    cnn_val_hidden.append(val)"
   ]
  },
  {
   "cell_type": "code",
   "execution_count": 64,
   "metadata": {},
   "outputs": [
    {
     "data": {
      "image/png": "[encoded data removed]",
      "text/plain": [
       "<matplotlib.figure.Figure at 0x2b2a98d83128>"
      ]
     },
     "metadata": {
      "needs_background": "light"
     },
     "output_type": "display_data"
    }
   ],
   "source": [
    "plot_tune(cnn_train_hidden, cnn_val_hidden, cnn_hidden)"
   ]
  },
  {
   "cell_type": "code",
   "execution_count": 46,
   "metadata": {},
   "outputs": [],
   "source": [
    "# kernel size\n",
    "cnn_train_kernel = []\n",
    "cnn_val_kernel = []\n",
    "cnn_kernel = [2, 3, 4, 5]\n",
    "for num in cnn_kernel:\n",
    "    loss, val = tuning_cnn(hidden_s=200, kernel_s=num)\n",
    "    cnn_train_kernel.append(loss)\n",
    "    cnn_val_kernel.append(val)"
   ]
  },
  {
   "cell_type": "code",
   "execution_count": 47,
   "metadata": {},
   "outputs": [
    {
     "data": {
      "image/png": "[encoded data removed]",
      "text/plain": [
       "<matplotlib.figure.Figure at 0x2b7457a70be0>"
      ]
     },
     "metadata": {
      "needs_background": "light"
     },
     "output_type": "display_data"
    }
   ],
   "source": [
    "plot_tune(cnn_train_kernel, cnn_val_kernel, cnn_kernel, parameter_name = 'kernel dimenstion')"
   ]
  },
  {
   "cell_type": "code",
   "execution_count": 49,
   "metadata": {},
   "outputs": [
    {
     "name": "stdout",
     "output_type": "stream",
     "text": [
      "No Dropout:\n",
      "Train Loss: 0.7282431125640869 \n",
      "Validation Accuracy:63.8\n",
      "After Adding Dropout:\n",
      "Train Loss: 0.9431334137916565 \n",
      "Validation Accuracy:65.2\n"
     ]
    }
   ],
   "source": [
    "# add dropout\n",
    "print('No Dropout:')\n",
    "print('Train Loss: {} \\nValidation Accuracy:{}'.format(cnn_train_kernel[np.argmax(cnn_val_kernel)], max(cnn_val_kernel)))\n",
    "loss, val = tuning_cnn(hidden_s=300, kernel_s=3, dropout_l=True)\n",
    "print('After Adding Dropout:')\n",
    "print('Train Loss: {} \\nValidation Accuracy:{}'.format(loss, val))"
   ]
  },
  {
   "cell_type": "markdown",
   "metadata": {},
   "source": [
    "## RNN"
   ]
  },
  {
   "cell_type": "code",
   "execution_count": 71,
   "metadata": {},
   "outputs": [],
   "source": [
    "class RNN(nn.Module):\n",
    "    def __init__(self, emb_size, hidden_size, num_layers, num_classes, linear_size, include_regular, ele_mul = False):\n",
    "        super(RNN, self).__init__()\n",
    "        self.include_reg, self.ele_mul = include_regular, ele_mul\n",
    "        if self.ele_mul:\n",
    "            linear_hidden_factor = 1\n",
    "        else:\n",
    "            linear_hidden_factor = 2\n",
    "        self.num_layers, self.hidden_size = num_layers, hidden_size\n",
    "        self.embedding = nn.Embedding.from_pretrained(torch.from_numpy(loaded_embeddings_ft).float(), freeze=True)\n",
    "        self.gru = nn.GRU(emb_size, hidden_size, num_layers = 1, batch_first=False, bidirectional=True)\n",
    "        self.linear1 = nn.Linear(hidden_size*linear_hidden_factor, linear_size)\n",
    "        self.linear2 = nn.Linear(linear_size, num_classes)\n",
    "        self.dropout = nn.Dropout(p = include_regular)\n",
    "        \n",
    "    def init_hidden(self, batch_size):\n",
    "        # Function initializes the activation of recurrent neural net at timestep 0\n",
    "        # Needs to be in format (num_layers, batch_size, hidden_size)\n",
    "        if torch.cuda.is_available and torch.has_cudnn:\n",
    "            hidden = torch.randn(self.num_layers*2, batch_size, self.hidden_size).cuda()\n",
    "        else:\n",
    "            hidden = torch.randn(self.num_layers*2, batch_size, self.hidden_size)\n",
    "        return hidden\n",
    "    \n",
    "    def forward(self, x1, x2, length1, length2):\n",
    "        # reset hidden state\n",
    "\n",
    "        batch_size, seq_len1 = x1.size()\n",
    "        _, seq_len2 = x2.size()\n",
    "\n",
    "        self.hidden1 = self.init_hidden(batch_size)\n",
    "        self.hidden2 = self.init_hidden(batch_size)\n",
    "        _, idx_sort1 = torch.sort(length1, dim=0, descending=True)\n",
    "        _, idx_sort2 = torch.sort(length2, dim=0, descending=True)\n",
    "        \n",
    "        #unsort \n",
    "        _, idx_unsort1 = torch.sort(idx_sort1, dim=0)\n",
    "        _, idx_unsort2 = torch.sort(idx_sort2, dim=0)\n",
    "\n",
    "        # get embedding of characters\n",
    "        embed1 = self.embedding(x1)\n",
    "        embed2 = self.embedding(x2)\n",
    "        \n",
    "        # sort embedding\n",
    "        embed1 = embed1.index_select(0, idx_sort1)\n",
    "        embed2 = embed2.index_select(0, idx_sort2)\n",
    "        sorted_len1 = length1[idx_sort1]\n",
    "        sorted_len2 = length2[idx_sort2]\n",
    "        \n",
    "        # pack padded sequence\n",
    "        if torch.cuda.is_available and torch.has_cudnn:\n",
    "            embed1 = torch.nn.utils.rnn.pack_padded_sequence(embed1, sorted_len1.cpu().numpy(), batch_first=True)\n",
    "            embed2 = torch.nn.utils.rnn.pack_padded_sequence(embed2, sorted_len2.cpu().numpy(), batch_first=True)\n",
    "        else:\n",
    "            embed1 = torch.nn.utils.rnn.pack_padded_sequence(embed1, sorted_len1.numpy(), batch_first=True)\n",
    "            embed2 = torch.nn.utils.rnn.pack_padded_sequence(embed2, sorted_len2.numpy(), batch_first=True)\n",
    "        # fprop though gru\n",
    "        rnn_out1, self.hidden1 = self.gru(embed1, self.hidden1)\n",
    "        rnn_out2, self.hidden2 = self.gru(embed2, self.hidden2)\n",
    "        # last hidden activations of RNN across time\n",
    "        rnn_out1 = self.hidden1.cpu()[-1,:,:]\n",
    "        rnn_out2 = self.hidden2.cpu()[-1,:,:]\n",
    "#         rnn_out1 = torch.sum(self.hidden1, dim=0)\n",
    "#         rnn_out2 = torch.sum(self.hidden2, dim=0)\n",
    "        \n",
    "        # unsort\n",
    "        if torch.cuda.is_available and torch.has_cudnn:\n",
    "            output1 = rnn_out1.cuda().index_select(0, idx_unsort1)\n",
    "            output2 = rnn_out2.cuda().index_select(0, idx_unsort2)\n",
    "        else:\n",
    "            output1 = rnn_out1.index_select(0, idx_unsort1)\n",
    "            output2 = rnn_out2.index_select(0, idx_unsort2)\n",
    "        #concat or element wise\n",
    "        if self.ele_mul:\n",
    "            hidden3 = torch.mul(output1, output2)\n",
    "        else:\n",
    "            hidden3 = torch.cat((output1, output2), dim = 1)\n",
    "        hidden3 = self.dropout(hidden3)\n",
    "        hidden3 = self.linear1(hidden3)\n",
    "        hidden3 = F.relu(hidden3)\n",
    "        logits = self.linear2(hidden3)\n",
    "\n",
    "        return logits"
   ]
  },
  {
   "cell_type": "code",
   "execution_count": 68,
   "metadata": {},
   "outputs": [],
   "source": [
    "def test_model_rnn(loader, model):\n",
    "    \"\"\"\n",
    "    Help function that tests the model's performance on a dataset\n",
    "    @param: loader - data loader for the dataset to test against\n",
    "    \"\"\"\n",
    "    correct = 0\n",
    "    total = 0\n",
    "    model.eval()\n",
    "    for data1, data2, length1, length2, labels in loader:\n",
    "        data1_batch, data2_batch, length1_batch, length2_batch, label_batch = data1, data2, length1, length2, labels\n",
    "        outputs = F.softmax(model(data1_batch,data2_batch, length1_batch, length2_batch), dim=1)\n",
    "        predicted = outputs.max(1, keepdim=True)[1]\n",
    "\n",
    "        total += labels.size(0)\n",
    "        correct += predicted.eq(labels.view_as(predicted)).sum().item()\n",
    "    return (100 * correct / total)"
   ]
  },
  {
   "cell_type": "code",
   "execution_count": 16,
   "metadata": {},
   "outputs": [],
   "source": [
    "if torch.cuda.is_available and torch.has_cudnn:\n",
    "    model = RNN(emb_size=300, hidden_size=200, num_layers=1, num_classes=3, include_regular=0,  linear_size=200).cuda()\n",
    "else:\n",
    "    model = RNN(emb_size=300, hidden_size=200, num_layers=1, num_classes=3, include_regular=0, linear_size=200)\n",
    "\n",
    "learning_rate = 3e-4\n",
    "num_epochs = 10 # number epoch to train\n",
    "\n",
    "# Criterion and Optimizer\n",
    "criterion = torch.nn.CrossEntropyLoss()\n",
    "optimizer = torch.optim.Adam(model.parameters(), lr=learning_rate)\n",
    "\n",
    "# Train the model\n",
    "total_step = len(train_loader)\n",
    "\n",
    "rnn_train_loss_list = []\n",
    "rnn_val_acc_list = []\n",
    "for epoch in range(num_epochs):\n",
    "    for i, (data1, data2, length1, length2, labels) in enumerate(train_loader):\n",
    "        model.train()\n",
    "        optimizer.zero_grad()\n",
    "        # Forward pass\n",
    "        outputs = model(data1, data2, length1, length2)\n",
    "        loss = criterion(outputs, labels)\n",
    "        \n",
    "        # Backward and optimize\n",
    "        loss.backward()\n",
    "        optimizer.step()\n",
    "        rnn_train_loss_list.append(loss.item())\n",
    "        # validate every 100 iterations\n",
    "        if i > 0 and i % 100 == 0:\n",
    "            # validate\n",
    "            val_acc = test_model_rnn(val_loader, model)\n",
    "            rnn_val_acc_list.append(val_acc)\n",
    "            print('Epoch: [{}/{}], Step: [{}/{}], Validation Acc: {}'.format(\n",
    "                       epoch+1, num_epochs, i+1, len(train_loader), val_acc))"
   ]
  },
  {
   "cell_type": "code",
   "execution_count": 44,
   "metadata": {},
   "outputs": [
    {
     "data": {
      "image/png": "[encoded data removed]",
      "text/plain": [
       "<matplotlib.figure.Figure at 0x2b9628cfb240>"
      ]
     },
     "metadata": {
      "needs_background": "light"
     },
     "output_type": "display_data"
    }
   ],
   "source": [
    "plot_nn(rnn_train_loss_list, rnn_val_acc_list, title_name='RNN')"
   ]
  },
  {
   "cell_type": "markdown",
   "metadata": {},
   "source": [
    "### Tuning"
   ]
  },
  {
   "cell_type": "code",
   "execution_count": 69,
   "metadata": {},
   "outputs": [],
   "source": [
    "def tuning_rnn(hidden_s, dropout_l = 0, lr = 3e-4, matrix_mul = False):\n",
    "    if torch.cuda.is_available and torch.has_cudnn:\n",
    "        model = RNN(emb_size=300, hidden_size=hidden_s, num_layers=1, num_classes=3, linear_size=200, include_regular = dropout_l, ele_mul = matrix_mul).cuda()\n",
    "    else:\n",
    "        model = RNN(emb_size=300, hidden_size=hidden_s, num_layers=1, num_classes=3, linear_size=200, include_regular = dropout_l, ele_mul = matrix_mul)\n",
    "\n",
    "    learning_rate = lr\n",
    "    num_epochs = 10 # number epoch to train\n",
    "\n",
    "    # Criterion and Optimizer\n",
    "    criterion = torch.nn.CrossEntropyLoss()\n",
    "    optimizer = torch.optim.Adam(model.parameters(), lr=learning_rate)\n",
    "\n",
    "    # Train the model\n",
    "    total_step = len(train_loader)\n",
    "    for epoch in range(num_epochs):\n",
    "        for i, (data1, data2, length1, length2, labels) in enumerate(train_loader):\n",
    "            model.train()\n",
    "            optimizer.zero_grad()\n",
    "            # Forward pass\n",
    "            outputs = model(data1, data2, length1, length2)\n",
    "            loss = criterion(outputs, labels)\n",
    "\n",
    "            # Backward and optimize\n",
    "            loss.backward()\n",
    "            optimizer.step()\n",
    "    val_acc = test_model_rnn(val_loader, model)                \n",
    "    return (loss.item(), val_acc)"
   ]
  },
  {
   "cell_type": "code",
   "execution_count": 72,
   "metadata": {},
   "outputs": [],
   "source": [
    "# hidden-dimension\n",
    "rnn_train_hidden = []\n",
    "rnn_val_hidden = []\n",
    "rnn_hidden = [200, 300, 400]\n",
    "for num in rnn_hidden:\n",
    "    loss, val = tuning_rnn(hidden_s=num)\n",
    "    rnn_train_hidden.append(loss)\n",
    "    rnn_val_hidden.append(val)"
   ]
  },
  {
   "cell_type": "code",
   "execution_count": 73,
   "metadata": {},
   "outputs": [
    {
     "data": {
      "image/png": "[encoded data removed]",
      "text/plain": [
       "<matplotlib.figure.Figure at 0x2b7457e57f60>"
      ]
     },
     "metadata": {
      "needs_background": "light"
     },
     "output_type": "display_data"
    }
   ],
   "source": [
    "plot_tune(rnn_train_hidden, rnn_val_hidden, rnn_hidden, parameter_name = 'hidden dimenstion', title_name = 'RNN')"
   ]
  },
  {
   "cell_type": "code",
   "execution_count": 76,
   "metadata": {},
   "outputs": [
    {
     "name": "stdout",
     "output_type": "stream",
     "text": [
      "No Dropout:\n",
      "Train Loss: 0.9226511716842651 \n",
      "Validation Accuracy:71.2\n",
      "After Adding Dropout:\n",
      "Train Loss: 0.6988766193389893 \n",
      "Validation Accuracy:69.3\n",
      "After Adding Dropout:\n",
      "Train Loss: 0.6801987290382385 \n",
      "Validation Accuracy:68.9\n",
      "After Adding Dropout:\n",
      "Train Loss: 0.6451876759529114 \n",
      "Validation Accuracy:68.6\n"
     ]
    }
   ],
   "source": [
    "# add dropout\n",
    "print('No Dropout:')\n",
    "print('Train Loss: {} \\nValidation Accuracy:{}'.format(rnn_train_hidden[np.argmax(rnn_val_hidden)], max(rnn_val_hidden)))\n",
    "dropout_list = [0.1, 0.2, 0.5]\n",
    "rnn_dropout_loss = []\n",
    "rnn_dropout_acc = []\n",
    "for num in dropout_list:\n",
    "    loss, val = tuning_rnn(hidden_s=200, dropout_l = num)\n",
    "    rnn_dropout_loss.append(loss)\n",
    "    rnn_dropout_acc.append(val)\n",
    "    print('After Adding Dropout:')\n",
    "    print('Train Loss: {} \\nValidation Accuracy:{}'.format(loss, val))"
   ]
  },
  {
   "cell_type": "code",
   "execution_count": 77,
   "metadata": {},
   "outputs": [
    {
     "data": {
      "image/png": "[encoded data removed]",
      "text/plain": [
       "<matplotlib.figure.Figure at 0x2b7458080cc0>"
      ]
     },
     "metadata": {
      "needs_background": "light"
     },
     "output_type": "display_data"
    }
   ],
   "source": [
    "plot_tune(rnn_dropout_loss, rnn_dropout_acc, dropout_list, parameter_name = 'Dropout', title_name = 'RNN')"
   ]
  },
  {
   "cell_type": "code",
   "execution_count": 79,
   "metadata": {},
   "outputs": [],
   "source": [
    "#lr \n",
    "rnn_train_lr = []\n",
    "rnn_val_lr = []\n",
    "rnn_lr = [3e-3, 3e-4, 3e-5]\n",
    "for num in rnn_lr:\n",
    "    loss, val = tuning_rnn(hidden_s=200, lr=num, dropout_l=0)\n",
    "    rnn_train_lr.append(loss)\n",
    "    rnn_val_lr.append(val)"
   ]
  },
  {
   "cell_type": "code",
   "execution_count": 80,
   "metadata": {},
   "outputs": [
    {
     "data": {
      "image/png": "[encoded data removed]",
      "text/plain": [
       "<matplotlib.figure.Figure at 0x2b7457d3a208>"
      ]
     },
     "metadata": {
      "needs_background": "light"
     },
     "output_type": "display_data"
    }
   ],
   "source": [
    "plot_tune(rnn_train_lr, rnn_val_lr, rnn_lr, parameter_name = 'learning rate', title_name = 'RNN')"
   ]
  },
  {
   "cell_type": "code",
   "execution_count": 81,
   "metadata": {},
   "outputs": [
    {
     "name": "stdout",
     "output_type": "stream",
     "text": [
      "concatenate:\n",
      "Train Loss: 0.551131546497345 \n",
      "Validation Accuracy:72.2\n",
      "element-wise multiplication:\n",
      "Train Loss: 0.8770127892494202 \n",
      "Validation Accuracy:68.6\n"
     ]
    }
   ],
   "source": [
    "# element-wise multiplication \n",
    "print('concatenate:')\n",
    "print('Train Loss: {} \\nValidation Accuracy:{}'.format(rnn_train_lr[np.argmax(rnn_val_lr)], max(rnn_val_lr)))\n",
    "loss, val = tuning_rnn(hidden_s=200, lr = 3e-4, matrix_mul = True)\n",
    "print('element-wise multiplication:')\n",
    "print('Train Loss: {} \\nValidation Accuracy:{}'.format(loss, val))"
   ]
  },
  {
   "cell_type": "markdown",
   "metadata": {},
   "source": [
    "Best model tuning: RNN (hidden_size = 200, lr = 3e-4,  dropout= false, concat two sentence representations)"
   ]
  },
  {
   "cell_type": "markdown",
   "metadata": {},
   "source": [
    "### Pick Out Right/Wrong"
   ]
  },
  {
   "cell_type": "code",
   "execution_count": 38,
   "metadata": {},
   "outputs": [],
   "source": [
    "def test_model_rnn_pick(loader, model):\n",
    "    \"\"\"\n",
    "    Help function that tests the model's performance on a dataset\n",
    "    @param: loader - data loader for the dataset to test against\n",
    "    \"\"\"\n",
    "    right_list = []\n",
    "    wrong_list = []\n",
    "    cnt_right = 0\n",
    "    cnt_wrong = 0\n",
    "    model.eval()\n",
    "    for data1, data2, length1, length2, labels in loader:\n",
    "        if cnt_right >= 5 and cnt_wrong >=5:\n",
    "            break\n",
    "        data1_batch, data2_batch, length1_batch, length2_batch, label_batch = data1, data2, length1, length2, labels\n",
    "        outputs = F.softmax(model(data1_batch,data2_batch, length1_batch, length2_batch), dim=1)\n",
    "        predicted = outputs.max(1, keepdim=True)[1]\n",
    "        equation = predicted.eq(labels.view_as(predicted)).cpu().numpy()\n",
    "        for idx, cont in enumerate(equation):\n",
    "            if cont==1:\n",
    "                right_list.append([data1_batch[idx], data2_batch[idx], label_batch[idx], predicted[idx]])\n",
    "                cnt_right+=1\n",
    "            else:\n",
    "                wrong_list.append([data1_batch[idx], data2_batch[idx], label_batch[idx], predicted[idx]])\n",
    "                cnt_wrong+=1\n",
    "    return (right_list, wrong_list)\n",
    "\n",
    "\n",
    "if torch.cuda.is_available and torch.has_cudnn:\n",
    "    model = RNN(emb_size=200, hidden_size=400, num_layers=1, num_classes=3, linear_size=200).cuda()\n",
    "else:\n",
    "    model = RNN(emb_size=200, hidden_size=400, num_layers=1, num_classes=3, linear_size=200)\n",
    "\n",
    "learning_rate = 3e-4\n",
    "num_epochs = 10 # number epoch to train\n",
    "\n",
    "# Criterion and Optimizer\n",
    "criterion = torch.nn.CrossEntropyLoss()\n",
    "optimizer = torch.optim.Adam(model.parameters(), lr=learning_rate)\n",
    "\n",
    "# Train the model\n",
    "total_step = len(train_loader)\n",
    "\n",
    "rnn_train_loss_list = []\n",
    "rnn_val_acc_list = []\n",
    "for epoch in range(num_epochs):\n",
    "    for i, (data1, data2, length1, length2, labels) in enumerate(train_loader):\n",
    "        model.train()\n",
    "        optimizer.zero_grad()\n",
    "        # Forward pass\n",
    "        outputs = model(data1, data2, length1, length2)\n",
    "        loss = criterion(outputs, labels)\n",
    "        \n",
    "        # Backward and optimize\n",
    "        loss.backward()\n",
    "        optimizer.step()\n",
    "right_list, wrong_list = test_model_rnn_pick(val_loader, model)"
   ]
  },
  {
   "cell_type": "code",
   "execution_count": 39,
   "metadata": {},
   "outputs": [],
   "source": [
    "def ret_sentence(word_list):\n",
    "    rw_word_list = []\n",
    "    for pre, hypo, label, predicted in word_list:\n",
    "        pre = pre.cpu().numpy()\n",
    "        hypo = hypo.cpu().numpy()\n",
    "        label = label.cpu().numpy()\n",
    "        predicted = predicted.cpu().numpy()\n",
    "        pre_sent = ' '.join([idx2words_ft[p] for p in pre if p != 0 ])\n",
    "        hypo_sent = ' '.join([idx2words_ft[h] for h in hypo if h != 0 ])\n",
    "        rw_word_list.append([pre_sent, hypo_sent, list(label_dic.keys())[list(label_dic.values()).index(label)], \n",
    "                            list(label_dic.keys())[list(label_dic.values()).index(predicted)]])\n",
    "    return rw_word_list"
   ]
  },
  {
   "cell_type": "code",
   "execution_count": 40,
   "metadata": {},
   "outputs": [
    {
     "data": {
      "text/plain": [
       "['Three women on a stage , one wearing red shoes , black pants , and a gray shirt is sitting on a prop , another is sitting on the floor',\n",
       " 'There are two women standing on the stage',\n",
       " 'contradiction',\n",
       " 'contradiction']"
      ]
     },
     "execution_count": 40,
     "metadata": {},
     "output_type": "execute_result"
    }
   ],
   "source": [
    "ret_sentence(right_list)[0]"
   ]
  },
  {
   "cell_type": "code",
   "execution_count": 41,
   "metadata": {},
   "outputs": [
    {
     "data": {
      "text/plain": [
       "['Four people sit on a subway two read books , one looks at a cellphone and is wearing knee high boots .',\n",
       " 'Multiple people are on a subway together , with each of them doing their own thing .',\n",
       " 'entailment',\n",
       " 'entailment']"
      ]
     },
     "execution_count": 41,
     "metadata": {},
     "output_type": "execute_result"
    }
   ],
   "source": [
    "ret_sentence(right_list)[1]"
   ]
  },
  {
   "cell_type": "code",
   "execution_count": 42,
   "metadata": {},
   "outputs": [
    {
     "data": {
      "text/plain": [
       "['bicycles stationed while a group of people socialize .',\n",
       " 'People get together near a stand of bicycles .',\n",
       " 'entailment',\n",
       " 'entailment']"
      ]
     },
     "execution_count": 42,
     "metadata": {},
     "output_type": "execute_result"
    }
   ],
   "source": [
    "ret_sentence(right_list)[2]"
   ]
  },
  {
   "cell_type": "code",
   "execution_count": 43,
   "metadata": {},
   "outputs": [
    {
     "data": {
      "text/plain": [
       "['Two people are in a green forest .',\n",
       " 'The forest is not dead .',\n",
       " 'entailment',\n",
       " 'contradiction']"
      ]
     },
     "execution_count": 43,
     "metadata": {},
     "output_type": "execute_result"
    }
   ],
   "source": [
    "ret_sentence(wrong_list)[0]"
   ]
  },
  {
   "cell_type": "code",
   "execution_count": 46,
   "metadata": {},
   "outputs": [
    {
     "data": {
      "text/plain": [
       "['Man in white shirt and blue jeans looking to the side while walking down a busy sidewalk .',\n",
       " 'Man has a blue shirt on .',\n",
       " 'contradiction',\n",
       " 'entailment']"
      ]
     },
     "execution_count": 46,
     "metadata": {},
     "output_type": "execute_result"
    }
   ],
   "source": [
    "ret_sentence(wrong_list)[3]"
   ]
  },
  {
   "cell_type": "code",
   "execution_count": 45,
   "metadata": {},
   "outputs": [
    {
     "data": {
      "text/plain": [
       "['A large group of people stand outside on a road while people on a higher level look on at them .',\n",
       " 'One group of people are watching what another group does .',\n",
       " 'entailment',\n",
       " 'neutral']"
      ]
     },
     "execution_count": 45,
     "metadata": {},
     "output_type": "execute_result"
    }
   ],
   "source": [
    "ret_sentence(wrong_list)[2]"
   ]
  },
  {
   "cell_type": "markdown",
   "metadata": {},
   "source": [
    "## Evaluating on MultiNLI"
   ]
  },
  {
   "cell_type": "code",
   "execution_count": 14,
   "metadata": {},
   "outputs": [],
   "source": [
    "train_data_df_multi = pd.read_csv('mnli_train.tsv', sep='\\t', index_col=None)\n",
    "test_data_df_multi = pd.read_csv('mnli_val.tsv', sep='\\t', index_col=None)"
   ]
  },
  {
   "cell_type": "code",
   "execution_count": 15,
   "metadata": {},
   "outputs": [],
   "source": [
    "train_set1 = train_data_df_multi['sentence1'].apply(lambda x: len(x)).values.tolist()\n",
    "train_set2 = train_data_df_multi['sentence2'].apply(lambda x: len(x)).values.tolist()"
   ]
  },
  {
   "cell_type": "code",
   "execution_count": 16,
   "metadata": {},
   "outputs": [],
   "source": [
    "MAX_LENGTH_MULTI = sorted(train_set1+train_set2)[-int(len(train_set1+train_set2)*0.01)]"
   ]
  },
  {
   "cell_type": "code",
   "execution_count": 17,
   "metadata": {},
   "outputs": [],
   "source": [
    "def sent_to_vec(sent):\n",
    "    sent = sent.split()\n",
    "    return word_to_id(sent)"
   ]
  },
  {
   "cell_type": "code",
   "execution_count": 18,
   "metadata": {},
   "outputs": [],
   "source": [
    "def convert_data_genre(df):\n",
    "    df['token1'] = df['sentence1'].apply(lambda x: sent_to_vec(x))\n",
    "    df['token2'] = df['sentence2'].apply(lambda x: sent_to_vec(x))\n",
    "    df['y'] = df['label'].apply(lambda x: label_dic[x])\n",
    "    return df"
   ]
  },
  {
   "cell_type": "code",
   "execution_count": 19,
   "metadata": {},
   "outputs": [],
   "source": [
    "train_data_df_multi2 = convert_data_genre(train_data_df_multi)\n",
    "test_data_df_multi2 = convert_data_genre(test_data_df_multi)"
   ]
  },
  {
   "cell_type": "code",
   "execution_count": 20,
   "metadata": {},
   "outputs": [],
   "source": [
    "def df2tuple(df, genre):\n",
    "    subdf = df.iloc[df.groupby('genre').groups[genre]]\n",
    "    subset = subdf[['token1', 'token2', 'y']]\n",
    "    tuples = [tuple(x) for x in subset.values]\n",
    "    return tuples"
   ]
  },
  {
   "cell_type": "code",
   "execution_count": 21,
   "metadata": {},
   "outputs": [],
   "source": [
    "df_fiction = df2tuple(train_data_df_multi2, 'fiction')\n",
    "df_slate = df2tuple(train_data_df_multi2, 'slate')\n",
    "df_gov = df2tuple(train_data_df_multi2, 'government')\n",
    "df_tel = df2tuple(train_data_df_multi2, 'telephone')\n",
    "df_travel = df2tuple(train_data_df_multi2, 'travel')\n",
    "df_test_fiction = df2tuple(test_data_df_multi2, 'fiction')\n",
    "df_test_slate = df2tuple(test_data_df_multi2, 'slate')\n",
    "df_test_gov = df2tuple(test_data_df_multi2, 'government')\n",
    "df_test_tel = df2tuple(test_data_df_multi2, 'telephone')\n",
    "df_test_travel = df2tuple(test_data_df_multi2, 'travel')"
   ]
  },
  {
   "cell_type": "code",
   "execution_count": 22,
   "metadata": {},
   "outputs": [],
   "source": [
    "# build DataLoader\n",
    "class MNLIDataset(Dataset):\n",
    "    \"\"\"\n",
    "    Class that represents a train/validation/test dataset that's readable for PyTorch\n",
    "    Note that this class inherits torch.utils.data.Dataset\n",
    "    \"\"\"\n",
    "\n",
    "    def __init__(self, data_tuple):\n",
    "        \"\"\"\n",
    "        @param data_list: list of character\n",
    "        @param target_list: list of targets\n",
    "\n",
    "        \"\"\"\n",
    "        self.data_pre_list, self.data_hypo_list, self.target_list = zip(*data_tuple)\n",
    "        assert (len(self.data_pre_list) == len(self.target_list))\n",
    "        assert (len(self.data_hypo_list) == len(self.target_list))\n",
    "\n",
    "    def __len__(self):\n",
    "        return len(self.target_list)\n",
    "\n",
    "    def __getitem__(self, key):\n",
    "        \"\"\"\n",
    "        Triggered when you call dataset[i]\n",
    "        \"\"\"\n",
    "        char_idx1 = self.data_pre_list[key][:MAX_LENGTH_MULTI]\n",
    "        char_idx2 = self.data_hypo_list[key][:MAX_LENGTH_MULTI]\n",
    "        label = self.target_list[key]\n",
    "        return [char_idx1, char_idx2, len(char_idx1), len(char_idx2), label]\n",
    "\n",
    "def vocab_collate_func(batch):\n",
    "    \"\"\"\n",
    "    Customized function for DataLoader that dynamically pads the batch so that all\n",
    "    data have the same length\n",
    "    \"\"\"\n",
    "    data_list_pre = []\n",
    "    data_list_hypo = []\n",
    "    label_list = []\n",
    "    length_list_pre = []\n",
    "    length_list_hypo = []\n",
    "\n",
    "    for datum in batch:\n",
    "        label_list.append(datum[4])\n",
    "        length_list_pre.append(datum[2])\n",
    "        length_list_hypo.append(datum[3])\n",
    "    # padding\n",
    "    for datum in batch:\n",
    "        padded_vec_pre = np.pad(np.array(datum[0]),\n",
    "                                pad_width=((0,MAX_LENGTH_MULTI-datum[2])),\n",
    "                                mode=\"constant\", constant_values=0)\n",
    "        padded_vec_hypo = np.pad(np.array(datum[1]),\n",
    "                                pad_width = ((0, MAX_LENGTH_MULTI-datum[3])), \n",
    "                                mode = \"constant\", constant_values= 0)\n",
    "        data_list_pre.append(padded_vec_pre)\n",
    "        data_list_hypo.append(padded_vec_hypo)\n",
    "    if torch.cuda.is_available and torch.has_cudnn:\n",
    "        return [torch.from_numpy(np.array(data_list_pre)).cuda(), torch.from_numpy(np.array(data_list_hypo)).cuda(),\n",
    "            torch.LongTensor(length_list_pre).cuda(), torch.LongTensor(length_list_hypo).cuda(), torch.LongTensor(label_list).cuda()]\n",
    "    else:\n",
    "        return [torch.from_numpy(np.array(data_list_pre)), torch.from_numpy(np.array(data_list_hypo)),\n",
    "            torch.LongTensor(length_list_pre), torch.LongTensor(length_list_hypo), torch.LongTensor(label_list)]"
   ]
  },
  {
   "cell_type": "markdown",
   "metadata": {},
   "source": [
    "### CNN"
   ]
  },
  {
   "cell_type": "code",
   "execution_count": 86,
   "metadata": {},
   "outputs": [],
   "source": [
    "def evaluate_cnn(train_data, test_data):\n",
    "    train_dataset = MNLIDataset(train_data)\n",
    "    train_loader = torch.utils.data.DataLoader(dataset=train_dataset,\n",
    "                                               batch_size=BATCH_SIZE,\n",
    "                                               collate_fn=vocab_collate_func,\n",
    "                                               shuffle=True)\n",
    "\n",
    "    val_dataset = MNLIDataset(test_data)\n",
    "    val_loader = torch.utils.data.DataLoader(dataset=val_dataset,\n",
    "                                               batch_size=BATCH_SIZE,\n",
    "                                               collate_fn=vocab_collate_func,\n",
    "                                               shuffle=False)\n",
    "    \n",
    "    if torch.cuda.is_available and torch.has_cudnn:\n",
    "        model = CNN(emb_size=300, hidden_size = 300, kernel_size=3, num_classes=3, dropout_layer = True).cuda()\n",
    "    else:\n",
    "        model = CNN(emb_size=300, hidden_size = 300, kernel_size=3, num_classes=3, dropout_layer = True)\n",
    "\n",
    "    learning_rate = 3e-4\n",
    "    num_epochs = 10 # number epoch to train\n",
    "\n",
    "    # Criterion and Optimizer\n",
    "    criterion = torch.nn.CrossEntropyLoss()\n",
    "    optimizer = torch.optim.Adam(model.parameters(), lr=learning_rate)\n",
    "\n",
    "    # Train the model\n",
    "    total_step = len(train_loader)\n",
    "    for epoch in range(num_epochs):\n",
    "        for i, (data1, data2, length1, length2, labels) in enumerate(train_loader):\n",
    "            model.train()\n",
    "            optimizer.zero_grad()\n",
    "            # Forward pass\n",
    "            outputs = model(data1, data2, length1, length2)\n",
    "            loss = criterion(outputs, labels)\n",
    "\n",
    "            # Backward and optimize\n",
    "            loss.backward()\n",
    "            optimizer.step()\n",
    "    val_acc = test_model_cnn(val_loader, model)                \n",
    "    return (loss.item(), val_acc)"
   ]
  },
  {
   "cell_type": "code",
   "execution_count": 87,
   "metadata": {},
   "outputs": [],
   "source": [
    "loss_fic, val_fic = evaluate_cnn(df_fiction, df_test_fiction)\n",
    "loss_gov, val_gov = evaluate_cnn(df_gov, df_test_gov)\n",
    "loss_slate, val_slate = evaluate_cnn(df_slate, df_test_slate)\n",
    "loss_tel, val_tel = evaluate_cnn(df_tel, df_test_tel)\n",
    "loss_travel, val_travel = evaluate_cnn(df_travel, df_test_travel)"
   ]
  },
  {
   "cell_type": "markdown",
   "metadata": {},
   "source": [
    "### RNN"
   ]
  },
  {
   "cell_type": "code",
   "execution_count": 91,
   "metadata": {},
   "outputs": [],
   "source": [
    "def evaluate_rnn(train_data, test_data):\n",
    "    train_dataset = MNLIDataset(train_data)\n",
    "    train_loader = torch.utils.data.DataLoader(dataset=train_dataset,\n",
    "                                               batch_size=BATCH_SIZE,\n",
    "                                               collate_fn=vocab_collate_func,\n",
    "                                               shuffle=True)\n",
    "\n",
    "    val_dataset = MNLIDataset(test_data)\n",
    "    val_loader = torch.utils.data.DataLoader(dataset=val_dataset,\n",
    "                                               batch_size=BATCH_SIZE,\n",
    "                                               collate_fn=vocab_collate_func,\n",
    "                                               shuffle=False)\n",
    "    \n",
    "    if torch.cuda.is_available and torch.has_cudnn:\n",
    "        model = RNN(emb_size = 300, hidden_size = 200, num_layers = 1, num_classes = 3, linear_size = 200, include_regular=0).cuda()\n",
    "    else:\n",
    "        model = RNN(emb_size = 300, hidden_size = 200, num_layers = 1, num_classes = 3, linear_size = 200, include_regular=0)\n",
    "\n",
    "    learning_rate = 3e-4\n",
    "    num_epochs = 10 # number epoch to train\n",
    "\n",
    "    # Criterion and Optimizer\n",
    "    criterion = torch.nn.CrossEntropyLoss()\n",
    "    optimizer = torch.optim.Adam(model.parameters(), lr=learning_rate)\n",
    "\n",
    "    # Train the model\n",
    "    total_step = len(train_loader)\n",
    "    for epoch in range(num_epochs):\n",
    "        for i, (data1, data2, length1, length2, labels) in enumerate(train_loader):\n",
    "            model.train()\n",
    "            optimizer.zero_grad()\n",
    "            # Forward pass\n",
    "            outputs = model(data1, data2, length1, length2)\n",
    "            loss = criterion(outputs, labels)\n",
    "\n",
    "            # Backward and optimize\n",
    "            loss.backward()\n",
    "            optimizer.step()\n",
    "    val_acc = test_model_cnn(val_loader, model)                \n",
    "    return (loss.item(), val_acc)"
   ]
  },
  {
   "cell_type": "code",
   "execution_count": 92,
   "metadata": {},
   "outputs": [],
   "source": [
    "loss_fic_rnn, val_fic_rnn = evaluate_rnn(df_fiction, df_test_fiction)\n",
    "loss_gov_rnn, val_gov_rnn = evaluate_rnn(df_gov, df_test_gov)\n",
    "loss_slate_rnn, val_slate_rnn = evaluate_rnn(df_slate, df_test_slate)\n",
    "loss_tel_rnn, val_tel_rnn = evaluate_rnn(df_tel, df_test_tel)\n",
    "loss_travel_rnn, val_travel_rnn = evaluate_rnn(df_travel, df_test_travel)"
   ]
  },
  {
   "cell_type": "code",
   "execution_count": 93,
   "metadata": {},
   "outputs": [
    {
     "data": {
      "text/html": [
       "<div>\n",
       "<style scoped>\n",
       "    .dataframe tbody tr th:only-of-type {\n",
       "        vertical-align: middle;\n",
       "    }\n",
       "\n",
       "    .dataframe tbody tr th {\n",
       "        vertical-align: top;\n",
       "    }\n",
       "\n",
       "    .dataframe thead th {\n",
       "        text-align: right;\n",
       "    }\n",
       "</style>\n",
       "<table border=\"1\" class=\"dataframe\">\n",
       "  <thead>\n",
       "    <tr style=\"text-align: right;\">\n",
       "      <th></th>\n",
       "      <th>CNN</th>\n",
       "      <th>RNN</th>\n",
       "    </tr>\n",
       "    <tr>\n",
       "      <th>val accuracy</th>\n",
       "      <th></th>\n",
       "      <th></th>\n",
       "    </tr>\n",
       "  </thead>\n",
       "  <tbody>\n",
       "    <tr>\n",
       "      <th>fiction</th>\n",
       "      <td>41.005025</td>\n",
       "      <td>48.140704</td>\n",
       "    </tr>\n",
       "    <tr>\n",
       "      <th>government</th>\n",
       "      <td>49.704724</td>\n",
       "      <td>48.031496</td>\n",
       "    </tr>\n",
       "    <tr>\n",
       "      <th>slate</th>\n",
       "      <td>38.522954</td>\n",
       "      <td>40.618762</td>\n",
       "    </tr>\n",
       "    <tr>\n",
       "      <th>telephone</th>\n",
       "      <td>44.079602</td>\n",
       "      <td>49.253731</td>\n",
       "    </tr>\n",
       "    <tr>\n",
       "      <th>travel</th>\n",
       "      <td>42.566191</td>\n",
       "      <td>47.759674</td>\n",
       "    </tr>\n",
       "  </tbody>\n",
       "</table>\n",
       "</div>"
      ],
      "text/plain": [
       "                    CNN        RNN\n",
       "val accuracy                      \n",
       "fiction       41.005025  48.140704\n",
       "government    49.704724  48.031496\n",
       "slate         38.522954  40.618762\n",
       "telephone     44.079602  49.253731\n",
       "travel        42.566191  47.759674"
      ]
     },
     "execution_count": 93,
     "metadata": {},
     "output_type": "execute_result"
    }
   ],
   "source": [
    "#build a table\n",
    "cnn_list = [val_fic, val_gov, val_slate, val_tel, val_travel]\n",
    "rnn_list = [val_fic_rnn, val_gov_rnn, val_slate_rnn, val_tel_rnn, val_travel_rnn]\n",
    "multi_table = pd.DataFrame(list(zip(['fiction', 'government', 'slate', 'telephone', 'travel'], cnn_list, rnn_list)), \n",
    "                           columns = ['val accuracy', 'CNN', 'RNN'])\n",
    "multi_table.set_index('val accuracy')"
   ]
  },
  {
   "cell_type": "code",
   "execution_count": null,
   "metadata": {},
   "outputs": [],
   "source": []
  }
 ],
 "metadata": {
  "kernelspec": {
   "display_name": "Python 3",
   "language": "python",
   "name": "python3"
  },
  "language_info": {
   "codemirror_mode": {
    "name": "ipython",
    "version": 3
   },
   "file_extension": ".py",
   "mimetype": "text/x-python",
   "name": "python",
   "nbconvert_exporter": "python",
   "pygments_lexer": "ipython3",
   "version": "3.6.3"
  }
 },
 "nbformat": 4,
 "nbformat_minor": 2
}
